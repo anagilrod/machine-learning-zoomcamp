{
 "cells": [
  {
   "cell_type": "markdown",
   "metadata": {},
   "source": [
    "<span style=\"color: #60B5FC; font-weight: bold; font-size: 24px;\">Homework 20231002</span>"
   ]
  },
  {
   "cell_type": "markdown",
   "metadata": {},
   "source": [
    "<span style=\"color: navy; font-weight: bold; font-size: 20px;\">Libraries:</span>"
   ]
  },
  {
   "cell_type": "code",
   "execution_count": 63,
   "metadata": {},
   "outputs": [],
   "source": [
    "import numpy as np\n",
    "import pandas as pd\n",
    "import seaborn as sns\n",
    "import matplotlib.pyplot as plt\n",
    "from sklearn.linear_model import Ridge\n",
    "from sklearn.metrics import mean_squared_error\n",
    "from sklearn.linear_model import LogisticRegression\n",
    "from sklearn.metrics import accuracy_score\n",
    "from sklearn.metrics import mutual_info_score\n",
    "from sklearn.feature_extraction import DictVectorizer\n",
    "from sklearn.model_selection import train_test_split\n",
    "from sklearn.preprocessing import OneHotEncoder\n",
    "from sklearn.impute import SimpleImputer\n"
   ]
  },
  {
   "cell_type": "code",
   "execution_count": 64,
   "metadata": {},
   "outputs": [
    {
     "name": "stdout",
     "output_type": "stream",
     "text": [
      "There are 11914 rows\n"
     ]
    },
    {
     "data": {
      "text/html": [
       "<div>\n",
       "<style scoped>\n",
       "    .dataframe tbody tr th:only-of-type {\n",
       "        vertical-align: middle;\n",
       "    }\n",
       "\n",
       "    .dataframe tbody tr th {\n",
       "        vertical-align: top;\n",
       "    }\n",
       "\n",
       "    .dataframe thead th {\n",
       "        text-align: right;\n",
       "    }\n",
       "</style>\n",
       "<table border=\"1\" class=\"dataframe\">\n",
       "  <thead>\n",
       "    <tr style=\"text-align: right;\">\n",
       "      <th></th>\n",
       "      <th>Make</th>\n",
       "      <th>Model</th>\n",
       "      <th>Year</th>\n",
       "      <th>Engine Fuel Type</th>\n",
       "      <th>Engine HP</th>\n",
       "      <th>Engine Cylinders</th>\n",
       "      <th>Transmission Type</th>\n",
       "      <th>Driven_Wheels</th>\n",
       "      <th>Number of Doors</th>\n",
       "      <th>Market Category</th>\n",
       "      <th>Vehicle Size</th>\n",
       "      <th>Vehicle Style</th>\n",
       "      <th>highway MPG</th>\n",
       "      <th>city mpg</th>\n",
       "      <th>Popularity</th>\n",
       "      <th>MSRP</th>\n",
       "    </tr>\n",
       "  </thead>\n",
       "  <tbody>\n",
       "    <tr>\n",
       "      <th>0</th>\n",
       "      <td>BMW</td>\n",
       "      <td>1 Series M</td>\n",
       "      <td>2011</td>\n",
       "      <td>premium unleaded (required)</td>\n",
       "      <td>335.0</td>\n",
       "      <td>6.0</td>\n",
       "      <td>MANUAL</td>\n",
       "      <td>rear wheel drive</td>\n",
       "      <td>2.0</td>\n",
       "      <td>Factory Tuner,Luxury,High-Performance</td>\n",
       "      <td>Compact</td>\n",
       "      <td>Coupe</td>\n",
       "      <td>26</td>\n",
       "      <td>19</td>\n",
       "      <td>3916</td>\n",
       "      <td>46135</td>\n",
       "    </tr>\n",
       "    <tr>\n",
       "      <th>1</th>\n",
       "      <td>BMW</td>\n",
       "      <td>1 Series</td>\n",
       "      <td>2011</td>\n",
       "      <td>premium unleaded (required)</td>\n",
       "      <td>300.0</td>\n",
       "      <td>6.0</td>\n",
       "      <td>MANUAL</td>\n",
       "      <td>rear wheel drive</td>\n",
       "      <td>2.0</td>\n",
       "      <td>Luxury,Performance</td>\n",
       "      <td>Compact</td>\n",
       "      <td>Convertible</td>\n",
       "      <td>28</td>\n",
       "      <td>19</td>\n",
       "      <td>3916</td>\n",
       "      <td>40650</td>\n",
       "    </tr>\n",
       "  </tbody>\n",
       "</table>\n",
       "</div>"
      ],
      "text/plain": [
       "  Make       Model  Year             Engine Fuel Type  Engine HP  \\\n",
       "0  BMW  1 Series M  2011  premium unleaded (required)      335.0   \n",
       "1  BMW    1 Series  2011  premium unleaded (required)      300.0   \n",
       "\n",
       "   Engine Cylinders Transmission Type     Driven_Wheels  Number of Doors  \\\n",
       "0               6.0            MANUAL  rear wheel drive              2.0   \n",
       "1               6.0            MANUAL  rear wheel drive              2.0   \n",
       "\n",
       "                         Market Category Vehicle Size Vehicle Style  \\\n",
       "0  Factory Tuner,Luxury,High-Performance      Compact         Coupe   \n",
       "1                     Luxury,Performance      Compact   Convertible   \n",
       "\n",
       "   highway MPG  city mpg  Popularity   MSRP  \n",
       "0           26        19        3916  46135  \n",
       "1           28        19        3916  40650  "
      ]
     },
     "metadata": {},
     "output_type": "display_data"
    }
   ],
   "source": [
    "df = pd.read_csv('/Users/anagilabert/repos/machine-learning-zoomcamp/homework_ana/data/raw.githubusercontent.com_alexeygrigorev_mlbookcamp-code_master_chapter-02-car-price_data.csv')\n",
    "print(f'There are {len(df)} rows')\n",
    "display(df.head(2))"
   ]
  },
  {
   "cell_type": "code",
   "execution_count": 65,
   "metadata": {},
   "outputs": [
    {
     "data": {
      "text/plain": [
       "Make                    0\n",
       "Model                   0\n",
       "Year                    0\n",
       "Engine Fuel Type        3\n",
       "Engine HP              69\n",
       "Engine Cylinders       30\n",
       "Transmission Type       0\n",
       "Driven_Wheels           0\n",
       "Number of Doors         6\n",
       "Market Category      3742\n",
       "Vehicle Size            0\n",
       "Vehicle Style           0\n",
       "highway MPG             0\n",
       "city mpg                0\n",
       "Popularity              0\n",
       "MSRP                    0\n",
       "dtype: int64"
      ]
     },
     "execution_count": 65,
     "metadata": {},
     "output_type": "execute_result"
    }
   ],
   "source": [
    "df.isna().sum()"
   ]
  },
  {
   "cell_type": "code",
   "execution_count": 66,
   "metadata": {},
   "outputs": [
    {
     "name": "stdout",
     "output_type": "stream",
     "text": [
      "  Make       Model  Year             Engine Fuel Type  Engine HP  \\\n",
      "0  BMW  1 Series M  2011  premium unleaded (required)      335.0   \n",
      "1  BMW    1 Series  2011  premium unleaded (required)      300.0   \n",
      "2  BMW    1 Series  2011  premium unleaded (required)      300.0   \n",
      "3  BMW    1 Series  2011  premium unleaded (required)      230.0   \n",
      "4  BMW    1 Series  2011  premium unleaded (required)      230.0   \n",
      "\n",
      "   Engine Cylinders Transmission Type     Driven_Wheels  Number of Doors  \\\n",
      "0               6.0            MANUAL  rear wheel drive              2.0   \n",
      "1               6.0            MANUAL  rear wheel drive              2.0   \n",
      "2               6.0            MANUAL  rear wheel drive              2.0   \n",
      "3               6.0            MANUAL  rear wheel drive              2.0   \n",
      "4               6.0            MANUAL  rear wheel drive              2.0   \n",
      "\n",
      "                         Market Category Vehicle Size Vehicle Style  \\\n",
      "0  Factory Tuner,Luxury,High-Performance      Compact         Coupe   \n",
      "1                     Luxury,Performance      Compact   Convertible   \n",
      "2                Luxury,High-Performance      Compact         Coupe   \n",
      "3                     Luxury,Performance      Compact         Coupe   \n",
      "4                                 Luxury      Compact   Convertible   \n",
      "\n",
      "   highway MPG  city mpg  Popularity   MSRP  \n",
      "0           26        19        3916  46135  \n",
      "1           28        19        3916  40650  \n",
      "2           28        20        3916  36350  \n",
      "3           28        18        3916  29450  \n",
      "4           28        18        3916  34500  \n"
     ]
    }
   ],
   "source": [
    "# Replace NaN in 'Engine HP' and 'Engine Cylinders' by 0\n",
    "df['Engine HP'].fillna(0, inplace=True)\n",
    "df['Engine Cylinders'].fillna(0, inplace=True)\n",
    "\n",
    "target_column = \"above_average\"\n",
    "\n",
    "print(df.head())"
   ]
  },
  {
   "cell_type": "markdown",
   "metadata": {},
   "source": [
    "target: MSRP"
   ]
  },
  {
   "cell_type": "markdown",
   "metadata": {},
   "source": [
    "<span style=\"color: darkred; font-weight: bold; font-size: 18px;\">Features:</span>\n",
    "\n",
    "For the rest of the homework, you'll need to use only these columns:\n",
    "\n",
    "Make,\n",
    "Model,\n",
    "Year,\n",
    "Engine HP,\n",
    "Engine Cylinders,\n",
    "Transmission Type,\n",
    "Vehicle Style,\n",
    "highway MPG,\n",
    "city mpg,\n",
    "MSRP"
   ]
  },
  {
   "cell_type": "code",
   "execution_count": 67,
   "metadata": {},
   "outputs": [],
   "source": [
    "selected_columns = ['Make', 'Model', 'Year', 'Engine HP', 'Engine Cylinders', 'Transmission Type', 'Vehicle Style', 'highway MPG', 'city mpg', 'MSRP']"
   ]
  },
  {
   "cell_type": "code",
   "execution_count": 68,
   "metadata": {},
   "outputs": [
    {
     "data": {
      "text/plain": [
       "0"
      ]
     },
     "execution_count": 68,
     "metadata": {},
     "output_type": "execute_result"
    }
   ],
   "source": [
    "df[selected_columns]['MSRP'].isna().sum()"
   ]
  },
  {
   "cell_type": "code",
   "execution_count": 69,
   "metadata": {},
   "outputs": [
    {
     "name": "stdout",
     "output_type": "stream",
     "text": [
      "<class 'pandas.core.series.Series'>\n",
      "RangeIndex: 11914 entries, 0 to 11913\n",
      "Series name: MSRP\n",
      "Non-Null Count  Dtype\n",
      "--------------  -----\n",
      "11914 non-null  int64\n",
      "dtypes: int64(1)\n",
      "memory usage: 93.2 KB\n"
     ]
    }
   ],
   "source": [
    "df[selected_columns]['MSRP'].info()"
   ]
  },
  {
   "cell_type": "code",
   "execution_count": 70,
   "metadata": {},
   "outputs": [],
   "source": [
    "# Define a function to train and evaluate a linear regression model\n",
    "def train_and_evaluate(df_train, df_val, target_column):\n",
    "    X_train = df_train.drop(columns=[target_column])  # We delete target column \n",
    "    y_train = df_train[target_column]  # Target variable\n",
    "    X_val = df_val.drop(columns=[target_column])\n",
    "    y_val = df_val[target_column]\n",
    "\n",
    "    model = LinearRegression()\n",
    "    model.fit(X_train, y_train)\n",
    "\n",
    "    y_pred = model.predict(X_val)\n",
    "    rmse = sqrt(mean_squared_error(y_val, y_pred))\n",
    "    return rmse"
   ]
  },
  {
   "cell_type": "code",
   "execution_count": 71,
   "metadata": {},
   "outputs": [
    {
     "data": {
      "text/html": [
       "<div>\n",
       "<style scoped>\n",
       "    .dataframe tbody tr th:only-of-type {\n",
       "        vertical-align: middle;\n",
       "    }\n",
       "\n",
       "    .dataframe tbody tr th {\n",
       "        vertical-align: top;\n",
       "    }\n",
       "\n",
       "    .dataframe thead th {\n",
       "        text-align: right;\n",
       "    }\n",
       "</style>\n",
       "<table border=\"1\" class=\"dataframe\">\n",
       "  <thead>\n",
       "    <tr style=\"text-align: right;\">\n",
       "      <th></th>\n",
       "      <th>Make</th>\n",
       "      <th>Model</th>\n",
       "      <th>Year</th>\n",
       "      <th>Engine HP</th>\n",
       "      <th>Engine Cylinders</th>\n",
       "      <th>Transmission Type</th>\n",
       "      <th>Vehicle Style</th>\n",
       "      <th>highway MPG</th>\n",
       "      <th>city mpg</th>\n",
       "      <th>MSRP</th>\n",
       "    </tr>\n",
       "  </thead>\n",
       "  <tbody>\n",
       "    <tr>\n",
       "      <th>0</th>\n",
       "      <td>BMW</td>\n",
       "      <td>1 Series M</td>\n",
       "      <td>2011</td>\n",
       "      <td>335.0</td>\n",
       "      <td>6.0</td>\n",
       "      <td>MANUAL</td>\n",
       "      <td>Coupe</td>\n",
       "      <td>26</td>\n",
       "      <td>19</td>\n",
       "      <td>46135</td>\n",
       "    </tr>\n",
       "    <tr>\n",
       "      <th>1</th>\n",
       "      <td>BMW</td>\n",
       "      <td>1 Series</td>\n",
       "      <td>2011</td>\n",
       "      <td>300.0</td>\n",
       "      <td>6.0</td>\n",
       "      <td>MANUAL</td>\n",
       "      <td>Convertible</td>\n",
       "      <td>28</td>\n",
       "      <td>19</td>\n",
       "      <td>40650</td>\n",
       "    </tr>\n",
       "  </tbody>\n",
       "</table>\n",
       "</div>"
      ],
      "text/plain": [
       "  Make       Model  Year  Engine HP  Engine Cylinders Transmission Type  \\\n",
       "0  BMW  1 Series M  2011      335.0               6.0            MANUAL   \n",
       "1  BMW    1 Series  2011      300.0               6.0            MANUAL   \n",
       "\n",
       "  Vehicle Style  highway MPG  city mpg   MSRP  \n",
       "0         Coupe           26        19  46135  \n",
       "1   Convertible           28        19  40650  "
      ]
     },
     "execution_count": 71,
     "metadata": {},
     "output_type": "execute_result"
    }
   ],
   "source": [
    "df = df[selected_columns]\n",
    "df.head(2)"
   ]
  },
  {
   "cell_type": "markdown",
   "metadata": {},
   "source": [
    "<span style=\"color: #AC1555; font-weight: bold; font-size: 18px;\">Question 1:</span>\n",
    "\n",
    "What is the most frequent observation (mode) for the column transmission_type?"
   ]
  },
  {
   "cell_type": "code",
   "execution_count": 72,
   "metadata": {},
   "outputs": [
    {
     "name": "stdout",
     "output_type": "stream",
     "text": [
      "Transmission Type\n",
      "AUTOMATIC           8266\n",
      "MANUAL              2935\n",
      "AUTOMATED_MANUAL     626\n",
      "DIRECT_DRIVE          68\n",
      "UNKNOWN               19\n",
      "Name: count, dtype: int64\n"
     ]
    }
   ],
   "source": [
    "transmission_counts = df['Transmission Type'].value_counts()\n",
    "print(transmission_counts)"
   ]
  },
  {
   "cell_type": "markdown",
   "metadata": {},
   "source": [
    "The most frecuent is AUTOMATIC"
   ]
  },
  {
   "cell_type": "markdown",
   "metadata": {},
   "source": [
    "<span style=\"color: #AC1555; font-weight: bold; font-size: 18px;\">Question 2:</span>\n",
    "\n",
    "What are the two features that have the biggest correlation in this dataset?\n"
   ]
  },
  {
   "cell_type": "code",
   "execution_count": 73,
   "metadata": {},
   "outputs": [
    {
     "data": {
      "text/plain": [
       "Make                  object\n",
       "Model                 object\n",
       "Year                   int64\n",
       "Engine HP            float64\n",
       "Engine Cylinders     float64\n",
       "Transmission Type     object\n",
       "Vehicle Style         object\n",
       "highway MPG            int64\n",
       "city mpg               int64\n",
       "MSRP                   int64\n",
       "dtype: object"
      ]
     },
     "execution_count": 73,
     "metadata": {},
     "output_type": "execute_result"
    }
   ],
   "source": [
    "variable_types = df.dtypes\n",
    "variable_types"
   ]
  },
  {
   "cell_type": "code",
   "execution_count": 74,
   "metadata": {},
   "outputs": [],
   "source": [
    "cat_columns = df.select_dtypes(include=['object'])\n"
   ]
  },
  {
   "cell_type": "code",
   "execution_count": 75,
   "metadata": {},
   "outputs": [
    {
     "data": {
      "text/html": [
       "<style type=\"text/css\">\n",
       "#T_17499_row0_col0, #T_17499_row1_col1, #T_17499_row2_col2, #T_17499_row3_col3, #T_17499_row4_col4, #T_17499_row5_col5 {\n",
       "  background-color: #023858;\n",
       "  color: #f1f1f1;\n",
       "  background-color: darkred;\n",
       "}\n",
       "#T_17499_row0_col1 {\n",
       "  background-color: #62a2cb;\n",
       "  color: #f1f1f1;\n",
       "}\n",
       "#T_17499_row0_col2 {\n",
       "  background-color: #adc1dd;\n",
       "  color: #000000;\n",
       "}\n",
       "#T_17499_row0_col3 {\n",
       "  background-color: #60a1ca;\n",
       "  color: #f1f1f1;\n",
       "}\n",
       "#T_17499_row0_col4 {\n",
       "  background-color: #76aad0;\n",
       "  color: #f1f1f1;\n",
       "}\n",
       "#T_17499_row0_col5 {\n",
       "  background-color: #b4c4df;\n",
       "  color: #000000;\n",
       "}\n",
       "#T_17499_row1_col0 {\n",
       "  background-color: #a9bfdc;\n",
       "  color: #000000;\n",
       "}\n",
       "#T_17499_row1_col2 {\n",
       "  background-color: #045c90;\n",
       "  color: #f1f1f1;\n",
       "}\n",
       "#T_17499_row1_col3 {\n",
       "  background-color: #ede7f2;\n",
       "  color: #000000;\n",
       "}\n",
       "#T_17499_row1_col4 {\n",
       "  background-color: #f0eaf4;\n",
       "  color: #000000;\n",
       "}\n",
       "#T_17499_row1_col5 {\n",
       "  background-color: #197db7;\n",
       "  color: #f1f1f1;\n",
       "}\n",
       "#T_17499_row2_col0, #T_17499_row2_col3, #T_17499_row2_col4, #T_17499_row3_col2, #T_17499_row3_col5, #T_17499_row4_col1, #T_17499_row4_col5 {\n",
       "  background-color: #fff7fb;\n",
       "  color: #000000;\n",
       "}\n",
       "#T_17499_row2_col1 {\n",
       "  background-color: #046096;\n",
       "  color: #f1f1f1;\n",
       "}\n",
       "#T_17499_row2_col5 {\n",
       "  background-color: #4697c4;\n",
       "  color: #f1f1f1;\n",
       "}\n",
       "#T_17499_row3_col0 {\n",
       "  background-color: #c4cbe3;\n",
       "  color: #000000;\n",
       "}\n",
       "#T_17499_row3_col1 {\n",
       "  background-color: #fef6fb;\n",
       "  color: #000000;\n",
       "}\n",
       "#T_17499_row3_col4 {\n",
       "  background-color: #034b76;\n",
       "  color: #f1f1f1;\n",
       "}\n",
       "#T_17499_row4_col0 {\n",
       "  background-color: #d5d5e8;\n",
       "  color: #000000;\n",
       "}\n",
       "#T_17499_row4_col2 {\n",
       "  background-color: #fdf5fa;\n",
       "  color: #000000;\n",
       "}\n",
       "#T_17499_row4_col3 {\n",
       "  background-color: #034a74;\n",
       "  color: #f1f1f1;\n",
       "}\n",
       "#T_17499_row5_col0 {\n",
       "  background-color: #ced0e6;\n",
       "  color: #000000;\n",
       "}\n",
       "#T_17499_row5_col1 {\n",
       "  background-color: #056fae;\n",
       "  color: #f1f1f1;\n",
       "}\n",
       "#T_17499_row5_col2 {\n",
       "  background-color: #167bb6;\n",
       "  color: #f1f1f1;\n",
       "}\n",
       "#T_17499_row5_col3 {\n",
       "  background-color: #c5cce3;\n",
       "  color: #000000;\n",
       "}\n",
       "#T_17499_row5_col4 {\n",
       "  background-color: #c9cee4;\n",
       "  color: #000000;\n",
       "}\n",
       "</style>\n",
       "<table id=\"T_17499\">\n",
       "  <thead>\n",
       "    <tr>\n",
       "      <th class=\"blank level0\" >&nbsp;</th>\n",
       "      <th id=\"T_17499_level0_col0\" class=\"col_heading level0 col0\" >Year</th>\n",
       "      <th id=\"T_17499_level0_col1\" class=\"col_heading level0 col1\" >Engine HP</th>\n",
       "      <th id=\"T_17499_level0_col2\" class=\"col_heading level0 col2\" >Engine Cylinders</th>\n",
       "      <th id=\"T_17499_level0_col3\" class=\"col_heading level0 col3\" >highway MPG</th>\n",
       "      <th id=\"T_17499_level0_col4\" class=\"col_heading level0 col4\" >city mpg</th>\n",
       "      <th id=\"T_17499_level0_col5\" class=\"col_heading level0 col5\" >MSRP</th>\n",
       "    </tr>\n",
       "  </thead>\n",
       "  <tbody>\n",
       "    <tr>\n",
       "      <th id=\"T_17499_level0_row0\" class=\"row_heading level0 row0\" >Year</th>\n",
       "      <td id=\"T_17499_row0_col0\" class=\"data row0 col0\" >1.000000</td>\n",
       "      <td id=\"T_17499_row0_col1\" class=\"data row0 col1\" >0.338714</td>\n",
       "      <td id=\"T_17499_row0_col2\" class=\"data row0 col2\" >-0.040708</td>\n",
       "      <td id=\"T_17499_row0_col3\" class=\"data row0 col3\" >0.258240</td>\n",
       "      <td id=\"T_17499_row0_col4\" class=\"data row0 col4\" >0.198171</td>\n",
       "      <td id=\"T_17499_row0_col5\" class=\"data row0 col5\" >0.227590</td>\n",
       "    </tr>\n",
       "    <tr>\n",
       "      <th id=\"T_17499_level0_row1\" class=\"row_heading level0 row1\" >Engine HP</th>\n",
       "      <td id=\"T_17499_row1_col0\" class=\"data row1 col0\" >0.338714</td>\n",
       "      <td id=\"T_17499_row1_col1\" class=\"data row1 col1\" >1.000000</td>\n",
       "      <td id=\"T_17499_row1_col2\" class=\"data row1 col2\" >0.774851</td>\n",
       "      <td id=\"T_17499_row1_col3\" class=\"data row1 col3\" >-0.415707</td>\n",
       "      <td id=\"T_17499_row1_col4\" class=\"data row1 col4\" >-0.424918</td>\n",
       "      <td id=\"T_17499_row1_col5\" class=\"data row1 col5\" >0.650095</td>\n",
       "    </tr>\n",
       "    <tr>\n",
       "      <th id=\"T_17499_level0_row2\" class=\"row_heading level0 row2\" >Engine Cylinders</th>\n",
       "      <td id=\"T_17499_row2_col0\" class=\"data row2 col0\" >-0.040708</td>\n",
       "      <td id=\"T_17499_row2_col1\" class=\"data row2 col1\" >0.774851</td>\n",
       "      <td id=\"T_17499_row2_col2\" class=\"data row2 col2\" >1.000000</td>\n",
       "      <td id=\"T_17499_row2_col3\" class=\"data row2 col3\" >-0.614541</td>\n",
       "      <td id=\"T_17499_row2_col4\" class=\"data row2 col4\" >-0.587306</td>\n",
       "      <td id=\"T_17499_row2_col5\" class=\"data row2 col5\" >0.526274</td>\n",
       "    </tr>\n",
       "    <tr>\n",
       "      <th id=\"T_17499_level0_row3\" class=\"row_heading level0 row3\" >highway MPG</th>\n",
       "      <td id=\"T_17499_row3_col0\" class=\"data row3 col0\" >0.258240</td>\n",
       "      <td id=\"T_17499_row3_col1\" class=\"data row3 col1\" >-0.415707</td>\n",
       "      <td id=\"T_17499_row3_col2\" class=\"data row3 col2\" >-0.614541</td>\n",
       "      <td id=\"T_17499_row3_col3\" class=\"data row3 col3\" >1.000000</td>\n",
       "      <td id=\"T_17499_row3_col4\" class=\"data row3 col4\" >0.886829</td>\n",
       "      <td id=\"T_17499_row3_col5\" class=\"data row3 col5\" >-0.160043</td>\n",
       "    </tr>\n",
       "    <tr>\n",
       "      <th id=\"T_17499_level0_row4\" class=\"row_heading level0 row4\" >city mpg</th>\n",
       "      <td id=\"T_17499_row4_col0\" class=\"data row4 col0\" >0.198171</td>\n",
       "      <td id=\"T_17499_row4_col1\" class=\"data row4 col1\" >-0.424918</td>\n",
       "      <td id=\"T_17499_row4_col2\" class=\"data row4 col2\" >-0.587306</td>\n",
       "      <td id=\"T_17499_row4_col3\" class=\"data row4 col3\" >0.886829</td>\n",
       "      <td id=\"T_17499_row4_col4\" class=\"data row4 col4\" >1.000000</td>\n",
       "      <td id=\"T_17499_row4_col5\" class=\"data row4 col5\" >-0.157676</td>\n",
       "    </tr>\n",
       "    <tr>\n",
       "      <th id=\"T_17499_level0_row5\" class=\"row_heading level0 row5\" >MSRP</th>\n",
       "      <td id=\"T_17499_row5_col0\" class=\"data row5 col0\" >0.227590</td>\n",
       "      <td id=\"T_17499_row5_col1\" class=\"data row5 col1\" >0.650095</td>\n",
       "      <td id=\"T_17499_row5_col2\" class=\"data row5 col2\" >0.526274</td>\n",
       "      <td id=\"T_17499_row5_col3\" class=\"data row5 col3\" >-0.160043</td>\n",
       "      <td id=\"T_17499_row5_col4\" class=\"data row5 col4\" >-0.157676</td>\n",
       "      <td id=\"T_17499_row5_col5\" class=\"data row5 col5\" >1.000000</td>\n",
       "    </tr>\n",
       "  </tbody>\n",
       "</table>\n"
      ],
      "text/plain": [
       "<pandas.io.formats.style.Styler at 0x7f8b48b20940>"
      ]
     },
     "execution_count": 75,
     "metadata": {},
     "output_type": "execute_result"
    }
   ],
   "source": [
    "num_columns = df.select_dtypes(include=['int64', 'float64'])\n",
    "corr_matrix = num_columns.corr()\n",
    "corr_matrix.style.background_gradient().highlight_max(color = 'darkred')\n"
   ]
  },
  {
   "cell_type": "code",
   "execution_count": 76,
   "metadata": {},
   "outputs": [
    {
     "data": {
      "text/plain": [
       "Year              Year                1.000000\n",
       "city mpg          city mpg            1.000000\n",
       "Engine Cylinders  Engine Cylinders    1.000000\n",
       "Engine HP         Engine HP           1.000000\n",
       "MSRP              MSRP                1.000000\n",
       "highway MPG       highway MPG         1.000000\n",
       "city mpg          highway MPG         0.886829\n",
       "highway MPG       city mpg            0.886829\n",
       "Engine HP         Engine Cylinders    0.774851\n",
       "Engine Cylinders  Engine HP           0.774851\n",
       "MSRP              Engine HP           0.650095\n",
       "Engine HP         MSRP                0.650095\n",
       "Engine Cylinders  MSRP                0.526274\n",
       "MSRP              Engine Cylinders    0.526274\n",
       "Year              Engine HP           0.338714\n",
       "dtype: float64"
      ]
     },
     "execution_count": 76,
     "metadata": {},
     "output_type": "execute_result"
    }
   ],
   "source": [
    "corr_matrix.unstack().sort_values(ascending = False)[:15]\n"
   ]
  },
  {
   "cell_type": "markdown",
   "metadata": {},
   "source": [
    "highway MPG y city mpg : They have a correlation of 0.8868. This means that as highway MPG increases, city mpg also tends to increase."
   ]
  },
  {
   "cell_type": "markdown",
   "metadata": {},
   "source": [
    "<span style=\"color: darkred; font-weight: bold; font-size: 18px;\">Make price binary</span>\n",
    "\n",
    "Now we need to turn the price variable from numeric into a binary format.\n",
    "\n",
    "- Let's create a variable above_average which is 1 if the price is above its mean value and 0 otherwise.\n",
    "- Split the data\n",
    "- Split your data in train/val/test sets with 60%/20%/20% distribution.\n",
    "- Use Scikit-Learn for that (the train_test_split function) and set the seed to 42.\n",
    "- Make sure that the target value (above_average) is not in your dataframe.\n"
   ]
  },
  {
   "cell_type": "code",
   "execution_count": 77,
   "metadata": {},
   "outputs": [],
   "source": [
    "def split_train_test(X,y):\n",
    "\n",
    "    # Split the data into a training set (60%)\n",
    "    X_train, X_temp, y_train, y_temp = train_test_split(X, y, test_size=0.4, random_state=42) #random_state=seed\n",
    "\n",
    "    # Split the remaining data into a validation set (20%) and a test set (20%)\n",
    "    X_val, X_test, y_val, y_test = train_test_split(X_temp, y_temp, test_size=0.5, random_state=42) #0.5 is half training and half test\n",
    "\n",
    "    df_train = pd.concat([X_train, y_train], axis=1)\n",
    "    df_val = pd.concat([X_val, y_val], axis=1)\n",
    "    df_test = pd.concat([X_test, y_test], axis=1)\n",
    "\n",
    "    return X_train, y_train, X_test, y_test, X_val, y_val, df_train, df_test, df_val"
   ]
  },
  {
   "cell_type": "code",
   "execution_count": 78,
   "metadata": {},
   "outputs": [],
   "source": [
    "X = df.drop(columns=['MSRP'])\n",
    "y = df['MSRP']"
   ]
  },
  {
   "cell_type": "code",
   "execution_count": 79,
   "metadata": {},
   "outputs": [],
   "source": [
    "# PROCESSING DATASET:\n",
    "X_train, y_train, X_test, y_test, X_val, y_val, df_train, df_test, df_val = split_train_test(X,y)\n",
    "\n",
    "msrp_mean = df_train['MSRP'].mean()\n",
    "\n",
    "df[target_column] = np.where(df['MSRP']>=msrp_mean,1,0)\n",
    "\n",
    "X = df.drop(columns=['MSRP', target_column])\n",
    "y = df[target_column]\n",
    "\n"
   ]
  },
  {
   "cell_type": "code",
   "execution_count": 80,
   "metadata": {},
   "outputs": [],
   "source": [
    "X_train, y_train, X_test, y_test, X_val, y_val, df_train, df_test, df_val = split_train_test(X,y)\n",
    "\n"
   ]
  },
  {
   "cell_type": "code",
   "execution_count": 81,
   "metadata": {},
   "outputs": [
    {
     "data": {
      "text/html": [
       "<div>\n",
       "<style scoped>\n",
       "    .dataframe tbody tr th:only-of-type {\n",
       "        vertical-align: middle;\n",
       "    }\n",
       "\n",
       "    .dataframe tbody tr th {\n",
       "        vertical-align: top;\n",
       "    }\n",
       "\n",
       "    .dataframe thead th {\n",
       "        text-align: right;\n",
       "    }\n",
       "</style>\n",
       "<table border=\"1\" class=\"dataframe\">\n",
       "  <thead>\n",
       "    <tr style=\"text-align: right;\">\n",
       "      <th></th>\n",
       "      <th>Make</th>\n",
       "      <th>Model</th>\n",
       "      <th>Year</th>\n",
       "      <th>Engine HP</th>\n",
       "      <th>Engine Cylinders</th>\n",
       "      <th>Transmission Type</th>\n",
       "      <th>Vehicle Style</th>\n",
       "      <th>highway MPG</th>\n",
       "      <th>city mpg</th>\n",
       "      <th>above_average</th>\n",
       "    </tr>\n",
       "  </thead>\n",
       "  <tbody>\n",
       "    <tr>\n",
       "      <th>4949</th>\n",
       "      <td>Nissan</td>\n",
       "      <td>Frontier</td>\n",
       "      <td>2015</td>\n",
       "      <td>261.0</td>\n",
       "      <td>6.0</td>\n",
       "      <td>AUTOMATIC</td>\n",
       "      <td>Crew Cab Pickup</td>\n",
       "      <td>21</td>\n",
       "      <td>15</td>\n",
       "      <td>0</td>\n",
       "    </tr>\n",
       "    <tr>\n",
       "      <th>579</th>\n",
       "      <td>FIAT</td>\n",
       "      <td>500L</td>\n",
       "      <td>2016</td>\n",
       "      <td>160.0</td>\n",
       "      <td>4.0</td>\n",
       "      <td>MANUAL</td>\n",
       "      <td>Wagon</td>\n",
       "      <td>33</td>\n",
       "      <td>25</td>\n",
       "      <td>0</td>\n",
       "    </tr>\n",
       "    <tr>\n",
       "      <th>8364</th>\n",
       "      <td>Ford</td>\n",
       "      <td>Ranger</td>\n",
       "      <td>2011</td>\n",
       "      <td>207.0</td>\n",
       "      <td>6.0</td>\n",
       "      <td>MANUAL</td>\n",
       "      <td>Extended Cab Pickup</td>\n",
       "      <td>21</td>\n",
       "      <td>16</td>\n",
       "      <td>0</td>\n",
       "    </tr>\n",
       "    <tr>\n",
       "      <th>8775</th>\n",
       "      <td>Chevrolet</td>\n",
       "      <td>S-10</td>\n",
       "      <td>2003</td>\n",
       "      <td>120.0</td>\n",
       "      <td>4.0</td>\n",
       "      <td>MANUAL</td>\n",
       "      <td>Extended Cab Pickup</td>\n",
       "      <td>25</td>\n",
       "      <td>19</td>\n",
       "      <td>0</td>\n",
       "    </tr>\n",
       "    <tr>\n",
       "      <th>7370</th>\n",
       "      <td>Mitsubishi</td>\n",
       "      <td>Outlander Sport</td>\n",
       "      <td>2016</td>\n",
       "      <td>168.0</td>\n",
       "      <td>4.0</td>\n",
       "      <td>AUTOMATIC</td>\n",
       "      <td>4dr SUV</td>\n",
       "      <td>27</td>\n",
       "      <td>22</td>\n",
       "      <td>0</td>\n",
       "    </tr>\n",
       "  </tbody>\n",
       "</table>\n",
       "</div>"
      ],
      "text/plain": [
       "            Make            Model  Year  Engine HP  Engine Cylinders  \\\n",
       "4949      Nissan         Frontier  2015      261.0               6.0   \n",
       "579         FIAT             500L  2016      160.0               4.0   \n",
       "8364        Ford           Ranger  2011      207.0               6.0   \n",
       "8775   Chevrolet             S-10  2003      120.0               4.0   \n",
       "7370  Mitsubishi  Outlander Sport  2016      168.0               4.0   \n",
       "\n",
       "     Transmission Type        Vehicle Style  highway MPG  city mpg  \\\n",
       "4949         AUTOMATIC      Crew Cab Pickup           21        15   \n",
       "579             MANUAL                Wagon           33        25   \n",
       "8364            MANUAL  Extended Cab Pickup           21        16   \n",
       "8775            MANUAL  Extended Cab Pickup           25        19   \n",
       "7370         AUTOMATIC              4dr SUV           27        22   \n",
       "\n",
       "      above_average  \n",
       "4949              0  \n",
       "579               0  \n",
       "8364              0  \n",
       "8775              0  \n",
       "7370              0  "
      ]
     },
     "execution_count": 81,
     "metadata": {},
     "output_type": "execute_result"
    }
   ],
   "source": [
    "df_train.head()"
   ]
  },
  {
   "cell_type": "markdown",
   "metadata": {},
   "source": [
    "<span style=\"color: #AC1555; font-weight: bold; font-size: 18px;\">Question 3:</span>\n",
    "\n",
    "- Calculate the mutual information score between above_average and other categorical variables in our dataset. \n",
    "- Use the training set only.\n",
    "- Round the scores to 2 decimals using round(score, 2).\n",
    "\n",
    "Which of these variables has the lowest mutual information score?"
   ]
  },
  {
   "cell_type": "code",
   "execution_count": 82,
   "metadata": {},
   "outputs": [
    {
     "name": "stdout",
     "output_type": "stream",
     "text": [
      "Mutual Information between 'Transmission Type' and above_average: 0.0212\n",
      "Mutual Information between 'Vehicle Style' and above_average: 0.083\n",
      "Mutual Information between 'Make' and above_average: 0.2354\n",
      "Mutual Information between 'Model' and above_average: 0.4639\n"
     ]
    }
   ],
   "source": [
    "# DEFINING FUNCTION:\n",
    "def calculate_mi(feature_series, target_series):\n",
    "    return mutual_info_score(feature_series, target_series)\n",
    "\n",
    "# IMPLEMENTATION:\n",
    "num_columns_cat = df_train.select_dtypes(include=['object'])\n",
    "target_series = df_train[target_column]\n",
    "\n",
    "mi_scores = {}\n",
    "\n",
    "# Calcular la información mutua para cada variable categórica\n",
    "for column in num_columns_cat:\n",
    "    feature_series = df_train[column]\n",
    "    mi_score = calculate_mi(feature_series, target_series)\n",
    "    mi_scores[column] = mi_score\n",
    "\n",
    "\n",
    "# Ordenar el diccionario por valores en orden ascendente\n",
    "sorted_mi_scores = sorted(mi_scores.items(), key=lambda x: x[1])\n",
    "\n",
    "# Imprimir los resultados ordenados de menor a mayor\n",
    "for column, score in sorted_mi_scores:\n",
    "    print(f\"Mutual Information between '{column}' and {target_column}: {round(score, 4)}\")"
   ]
  },
  {
   "cell_type": "markdown",
   "metadata": {},
   "source": [
    "The lowest is 'Transmission Type'."
   ]
  },
  {
   "cell_type": "markdown",
   "metadata": {},
   "source": [
    "<span style=\"color: #AC1555; font-weight: bold; font-size: 18px;\">Question 4:</span>\n",
    "\n",
    "Now let's train a logistic regression.\n",
    "\n",
    "- Remember that we have several categorical variables in the dataset. Include them using one-hot encoding.\n",
    "- Fit the model on the training dataset.\n",
    "- To make sure the results are reproducible across different versions of Scikit-Learn, fit the model with these parameters:\n",
    "\n",
    "  model = LogisticRegression(solver='liblinear', C=10, max_iter=1000, random_state=42)\n",
    "\n",
    "Calculate the accuracy on the validation dataset and round it to 2 decimal digits."
   ]
  },
  {
   "cell_type": "code",
   "execution_count": 83,
   "metadata": {},
   "outputs": [
    {
     "data": {
      "text/plain": [
       "0.93957"
      ]
     },
     "execution_count": 83,
     "metadata": {},
     "output_type": "execute_result"
    }
   ],
   "source": [
    "X_train_tmp = X_train.copy()\n",
    "X_val_tmp = X_val.copy()\n",
    "\n",
    "# Convert the DataFrames to dictionaries\n",
    "X_train_dict = X_train_tmp.to_dict(orient='records')\n",
    "X_val_dict = X_val_tmp.to_dict(orient='records')\n",
    "\n",
    "# Initialize DictVectorizer\n",
    "dv = DictVectorizer(sparse=False)\n",
    "\n",
    "# Fit and transform X_train_dict using DictVectorizer\n",
    "X_train_encoded = dv.fit_transform(X_train_dict)\n",
    "\n",
    "# Transform X_val_dict using the same DictVectorizer instance\n",
    "X_val_encoded = dv.transform(X_val_dict)\n",
    "\n",
    "# Create a logistic regression model\n",
    "model = LogisticRegression(solver='liblinear', C=10, max_iter=1000, random_state=42)\n",
    "\n",
    "# Fit the model\n",
    "model.fit(X_train_encoded, y_train)\n",
    "\n",
    "# Predict and calculate accuracy on the validation set\n",
    "y_pred = model.predict(X_val_encoded)\n",
    "accuracy = round(accuracy_score(y_val, y_pred), 5)\n",
    "\n",
    "accuracy"
   ]
  },
  {
   "cell_type": "markdown",
   "metadata": {},
   "source": [
    "<span style=\"color: #AC1555; font-weight: bold; font-size: 18px;\">Question 5:</span>\n",
    "\n",
    "Let's find the least useful feature using the feature elimination technique.\n",
    "\n",
    "- Train a model with all these features (using the same parameters as in Q4).\n",
    "- Now exclude each feature from this set and train a model without it. Record the accuracy for each model.\n",
    "- For each feature, calculate the difference between the original accuracy and the accuracy without the feature.\n",
    "\n",
    "Which of following feature has the smallest difference?"
   ]
  },
  {
   "cell_type": "code",
   "execution_count": 84,
   "metadata": {},
   "outputs": [
    {
     "name": "stdout",
     "output_type": "stream",
     "text": [
      "Accuracy difference without feature Make: -0.00293\n",
      "Accuracy difference without feature Model: 0.02561\n",
      "Accuracy difference without feature Year: -0.00545\n",
      "Accuracy difference without feature Engine HP: 0.01008\n",
      "Accuracy difference without feature Engine Cylinders: 0.00295\n",
      "Accuracy difference without feature Transmission Type: -0.00629\n",
      "Accuracy difference without feature Vehicle Style: 0.00295\n",
      "Accuracy difference without feature highway MPG: 0.00211\n",
      "Accuracy difference without feature city mpg: -0.00041\n"
     ]
    }
   ],
   "source": [
    "from sklearn.feature_extraction import DictVectorizer\n",
    "from sklearn.pipeline import Pipeline\n",
    "from sklearn.linear_model import LogisticRegression\n",
    "from sklearn.metrics import accuracy_score\n",
    "\n",
    "# Initialize a dictionary to store accuracy differences\n",
    "accuracy_differences = {}\n",
    "\n",
    "for feature in X_train.columns.tolist():\n",
    "    # Drop the current feature from both train and validation sets\n",
    "    X_train_tmp = X_train.drop([feature], axis=1)\n",
    "    X_val_tmp = X_val.drop([feature], axis=1)\n",
    "\n",
    "    # Convert the DataFrames to dictionaries\n",
    "    X_train_dict = X_train_tmp.to_dict(orient='records')\n",
    "    X_val_dict = X_val_tmp.to_dict(orient='records')\n",
    "\n",
    "    # Initialize DictVectorizer\n",
    "    dv = DictVectorizer(sparse=False)\n",
    "\n",
    "    # Fit and transform X_train_dict using DictVectorizer\n",
    "    X_train_encoded = dv.fit_transform(X_train_dict)\n",
    "\n",
    "    # Transform X_val_dict using the same DictVectorizer instance\n",
    "    X_val_encoded = dv.transform(X_val_dict)\n",
    "\n",
    "    # Create a logistic regression model\n",
    "    model = LogisticRegression(solver='liblinear', C=10, max_iter=1000, random_state=42)\n",
    "\n",
    "    # Fit the model\n",
    "    model.fit(X_train_encoded, y_train)\n",
    "\n",
    "    # Predict and calculate accuracy on the validation set\n",
    "    y_pred = model.predict(X_val_encoded)\n",
    "    accuracy = round(accuracy_score(y_val, y_pred), 5)\n",
    "\n",
    "    # Calculate the difference\n",
    "    accuracy_difference = round(accuracy_global - accuracy, 5)\n",
    "\n",
    "    # Store the accuracy difference in the dictionary\n",
    "    accuracy_differences[feature] = accuracy_difference\n",
    "\n",
    "# Print the accuracy differences\n",
    "for feature, difference in accuracy_differences.items():\n",
    "    print(f'Accuracy difference without feature {feature}: {difference}')\n"
   ]
  },
  {
   "cell_type": "markdown",
   "metadata": {},
   "source": [
    "<span style=\"color: #AC1555; font-weight: bold; font-size: 18px;\">Question 6:</span>\n",
    "\n",
    "- For this question, we'll see how to use a linear regression model from Scikit-Learn.\n",
    "- We'll need to use the original column price. Apply the logarithmic transformation to this column.\n",
    "- Fit the Ridge regression model on the training data with a solver 'sag'. Set the seed to 42.\n",
    "- This model also has a parameter alpha. Let's try the following values: [0, 0.01, 0.1, 1, 10].\n",
    "- Round your RMSE scores to 3 decimal digits.\n",
    "  \n",
    "Which of these alphas leads to the best RMSE on the validation set?"
   ]
  },
  {
   "cell_type": "code",
   "execution_count": 87,
   "metadata": {},
   "outputs": [
    {
     "name": "stderr",
     "output_type": "stream",
     "text": [
      "/Users/anagilabert/repos/machine-learning-zoomcamp/.conda/lib/python3.9/site-packages/sklearn/linear_model/_sag.py:350: ConvergenceWarning: The max_iter was reached which means the coef_ did not converge\n",
      "  warnings.warn(\n",
      "/Users/anagilabert/repos/machine-learning-zoomcamp/.conda/lib/python3.9/site-packages/sklearn/linear_model/_sag.py:350: ConvergenceWarning: The max_iter was reached which means the coef_ did not converge\n",
      "  warnings.warn(\n",
      "/Users/anagilabert/repos/machine-learning-zoomcamp/.conda/lib/python3.9/site-packages/sklearn/linear_model/_sag.py:350: ConvergenceWarning: The max_iter was reached which means the coef_ did not converge\n",
      "  warnings.warn(\n",
      "/Users/anagilabert/repos/machine-learning-zoomcamp/.conda/lib/python3.9/site-packages/sklearn/linear_model/_sag.py:350: ConvergenceWarning: The max_iter was reached which means the coef_ did not converge\n",
      "  warnings.warn(\n"
     ]
    },
    {
     "name": "stdout",
     "output_type": "stream",
     "text": [
      "The best alpha for Ridge regression is 0\n",
      "RMSE on the validation set with the best alpha: 0.306\n"
     ]
    },
    {
     "name": "stderr",
     "output_type": "stream",
     "text": [
      "/Users/anagilabert/repos/machine-learning-zoomcamp/.conda/lib/python3.9/site-packages/sklearn/linear_model/_sag.py:350: ConvergenceWarning: The max_iter was reached which means the coef_ did not converge\n",
      "  warnings.warn(\n"
     ]
    }
   ],
   "source": [
    "import numpy as np\n",
    "from sklearn.linear_model import Ridge\n",
    "from sklearn.metrics import mean_squared_error\n",
    "from math import sqrt\n",
    "import pandas as pd\n",
    "\n",
    "# Define the alpha values to try\n",
    "alphas = [0, 0.01, 0.1, 1, 10]\n",
    "\n",
    "# Initialize variables to keep track of the best alpha and RMSE\n",
    "best_alpha = None\n",
    "best_rmse = float('inf')\n",
    "\n",
    "# Apply logarithmic transformation to the target column\n",
    "df_train['log_target_column'] = np.log1p(df_train[target_column])\n",
    "df_val['log_target_column'] = np.log1p(df_val[target_column])\n",
    "\n",
    "# Preprocess categorical columns with one-hot encoding\n",
    "categorical_columns = X_train.select_dtypes(include=['object']).columns.tolist()\n",
    "X_train = pd.get_dummies(X_train, columns=categorical_columns, drop_first=True)\n",
    "X_val = pd.get_dummies(X_val, columns=categorical_columns, drop_first=True)\n",
    "\n",
    "# Reorder the columns in the validation dataset to match the order in the training dataset\n",
    "X_val = X_val[X_train.columns]\n",
    "\n",
    "for alpha in alphas:\n",
    "    # Initialize and fit Ridge regression model with the current alpha\n",
    "    model = Ridge(alpha=alpha, solver='sag', random_state=42, max_iter=1000)  # Increase max_iter\n",
    "    model.fit(X_train, y_train)\n",
    "    \n",
    "    # Predict on the validation set\n",
    "    y_val_pred = model.predict(X_val)\n",
    "    \n",
    "    # Calculate RMSE for the current alpha\n",
    "    rmse = sqrt(mean_squared_error(y_val, y_val_pred))\n",
    "    \n",
    "    # Check if this alpha leads to a better RMSE\n",
    "    if rmse < best_rmse:\n",
    "        best_alpha = alpha\n",
    "        best_rmse = rmse\n",
    "\n",
    "# Round the best RMSE to 3 decimal digits\n",
    "best_rmse = round(best_rmse, 3)\n",
    "\n",
    "print(f\"The best alpha for Ridge regression is {best_alpha}\")\n",
    "print(f\"RMSE on the validation set with the best alpha: {best_rmse}\")\n"
   ]
  }
 ],
 "metadata": {
  "kernelspec": {
   "display_name": "Python 3",
   "language": "python",
   "name": "python3"
  },
  "language_info": {
   "codemirror_mode": {
    "name": "ipython",
    "version": 3
   },
   "file_extension": ".py",
   "mimetype": "text/x-python",
   "name": "python",
   "nbconvert_exporter": "python",
   "pygments_lexer": "ipython3",
   "version": "3.9.18"
  },
  "orig_nbformat": 4
 },
 "nbformat": 4,
 "nbformat_minor": 2
}
